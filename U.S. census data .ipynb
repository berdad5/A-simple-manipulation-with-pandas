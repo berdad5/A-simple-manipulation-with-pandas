{
 "cells": [
  {
   "cell_type": "code",
   "execution_count": 28,
   "metadata": {},
   "outputs": [],
   "source": [
    "import pandas as pd\n",
    "dfs = pd.read_excel(\"C:/Users/pc/Downloads/census_data.xlsx\", header=3)\n",
    "dfs=dfs.drop(['Ranking 2000'], axis = 1) \n",
    "dfs=dfs.drop(['Ranking 1990'], axis = 1) \n",
    "\n"
   ]
  },
  {
   "cell_type": "code",
   "execution_count": 29,
   "metadata": {},
   "outputs": [
    {
     "data": {
      "text/html": [
       "<div>\n",
       "<style scoped>\n",
       "    .dataframe tbody tr th:only-of-type {\n",
       "        vertical-align: middle;\n",
       "    }\n",
       "\n",
       "    .dataframe tbody tr th {\n",
       "        vertical-align: top;\n",
       "    }\n",
       "\n",
       "    .dataframe thead th {\n",
       "        text-align: right;\n",
       "    }\n",
       "</style>\n",
       "<table border=\"1\" class=\"dataframe\">\n",
       "  <thead>\n",
       "    <tr style=\"text-align: right;\">\n",
       "      <th></th>\n",
       "      <th>Area</th>\n",
       "      <th>Total 2000</th>\n",
       "      <th>Total 1990</th>\n",
       "    </tr>\n",
       "  </thead>\n",
       "  <tbody>\n",
       "    <tr>\n",
       "      <th>0</th>\n",
       "      <td>Alabama</td>\n",
       "      <td>4447100.0</td>\n",
       "      <td>4040587.0</td>\n",
       "    </tr>\n",
       "    <tr>\n",
       "      <th>1</th>\n",
       "      <td>Alaska</td>\n",
       "      <td>626932.0</td>\n",
       "      <td>550043.0</td>\n",
       "    </tr>\n",
       "    <tr>\n",
       "      <th>2</th>\n",
       "      <td>Arizona</td>\n",
       "      <td>5130632.0</td>\n",
       "      <td>3665228.0</td>\n",
       "    </tr>\n",
       "    <tr>\n",
       "      <th>3</th>\n",
       "      <td>Arkansas</td>\n",
       "      <td>2673400.0</td>\n",
       "      <td>2350725.0</td>\n",
       "    </tr>\n",
       "    <tr>\n",
       "      <th>4</th>\n",
       "      <td>California</td>\n",
       "      <td>33871648.0</td>\n",
       "      <td>29760021.0</td>\n",
       "    </tr>\n",
       "    <tr>\n",
       "      <th>...</th>\n",
       "      <td>...</td>\n",
       "      <td>...</td>\n",
       "      <td>...</td>\n",
       "    </tr>\n",
       "    <tr>\n",
       "      <th>66</th>\n",
       "      <td>NOTE:  Consistent with the January 1999 U.S. S...</td>\n",
       "      <td>NaN</td>\n",
       "      <td>NaN</td>\n",
       "    </tr>\n",
       "    <tr>\n",
       "      <th>67</th>\n",
       "      <td>of Representatives, 525 U.S. 316, 119 S. Ct. 7...</td>\n",
       "      <td>NaN</td>\n",
       "      <td>NaN</td>\n",
       "    </tr>\n",
       "    <tr>\n",
       "      <th>68</th>\n",
       "      <td>reflect the use of statistical sampling to cor...</td>\n",
       "      <td>NaN</td>\n",
       "      <td>NaN</td>\n",
       "    </tr>\n",
       "    <tr>\n",
       "      <th>69</th>\n",
       "      <td>Source:  U.S. Department of Commerce, U.S. Cen...</td>\n",
       "      <td>NaN</td>\n",
       "      <td>NaN</td>\n",
       "    </tr>\n",
       "    <tr>\n",
       "      <th>70</th>\n",
       "      <td>Internet Release date:  December 28, 2000</td>\n",
       "      <td>NaN</td>\n",
       "      <td>NaN</td>\n",
       "    </tr>\n",
       "  </tbody>\n",
       "</table>\n",
       "<p>71 rows × 3 columns</p>\n",
       "</div>"
      ],
      "text/plain": [
       "                                                 Area  Total 2000  Total 1990\n",
       "0                                             Alabama   4447100.0   4040587.0\n",
       "1                                              Alaska    626932.0    550043.0\n",
       "2                                             Arizona   5130632.0   3665228.0\n",
       "3                                            Arkansas   2673400.0   2350725.0\n",
       "4                                          California  33871648.0  29760021.0\n",
       "..                                                ...         ...         ...\n",
       "66  NOTE:  Consistent with the January 1999 U.S. S...         NaN         NaN\n",
       "67  of Representatives, 525 U.S. 316, 119 S. Ct. 7...         NaN         NaN\n",
       "68  reflect the use of statistical sampling to cor...         NaN         NaN\n",
       "69  Source:  U.S. Department of Commerce, U.S. Cen...         NaN         NaN\n",
       "70          Internet Release date:  December 28, 2000         NaN         NaN\n",
       "\n",
       "[71 rows x 3 columns]"
      ]
     },
     "execution_count": 29,
     "metadata": {},
     "output_type": "execute_result"
    }
   ],
   "source": [
    "dfs"
   ]
  },
  {
   "cell_type": "code",
   "execution_count": 30,
   "metadata": {},
   "outputs": [],
   "source": [
    "dfs.to_excel('C:/Users/pc/Downloads/CensusData/panda_census_data.xlsx')"
   ]
  },
  {
   "cell_type": "code",
   "execution_count": 32,
   "metadata": {},
   "outputs": [],
   "source": [
    "import os \n",
    "directory = \"PopulationChange Records\"\n",
    "parent_dir = \"C:/Users/pc/Downloads/\"\n",
    "path = os.path.join(parent_dir, directory) \n",
    "mode = 0o666\n",
    "\n",
    "os.mkdir(path, mode) \n"
   ]
  },
  {
   "cell_type": "code",
   "execution_count": 33,
   "metadata": {},
   "outputs": [],
   "source": [
    "dfs['Record'] = dfs['Total 2000'] - dfs['Total 1990'] "
   ]
  },
  {
   "cell_type": "code",
   "execution_count": 34,
   "metadata": {},
   "outputs": [
    {
     "data": {
      "text/html": [
       "<div>\n",
       "<style scoped>\n",
       "    .dataframe tbody tr th:only-of-type {\n",
       "        vertical-align: middle;\n",
       "    }\n",
       "\n",
       "    .dataframe tbody tr th {\n",
       "        vertical-align: top;\n",
       "    }\n",
       "\n",
       "    .dataframe thead th {\n",
       "        text-align: right;\n",
       "    }\n",
       "</style>\n",
       "<table border=\"1\" class=\"dataframe\">\n",
       "  <thead>\n",
       "    <tr style=\"text-align: right;\">\n",
       "      <th></th>\n",
       "      <th>Area</th>\n",
       "      <th>Total 2000</th>\n",
       "      <th>Total 1990</th>\n",
       "      <th>Record</th>\n",
       "    </tr>\n",
       "  </thead>\n",
       "  <tbody>\n",
       "    <tr>\n",
       "      <th>0</th>\n",
       "      <td>Alabama</td>\n",
       "      <td>4447100.0</td>\n",
       "      <td>4040587.0</td>\n",
       "      <td>406513.0</td>\n",
       "    </tr>\n",
       "    <tr>\n",
       "      <th>1</th>\n",
       "      <td>Alaska</td>\n",
       "      <td>626932.0</td>\n",
       "      <td>550043.0</td>\n",
       "      <td>76889.0</td>\n",
       "    </tr>\n",
       "    <tr>\n",
       "      <th>2</th>\n",
       "      <td>Arizona</td>\n",
       "      <td>5130632.0</td>\n",
       "      <td>3665228.0</td>\n",
       "      <td>1465404.0</td>\n",
       "    </tr>\n",
       "    <tr>\n",
       "      <th>3</th>\n",
       "      <td>Arkansas</td>\n",
       "      <td>2673400.0</td>\n",
       "      <td>2350725.0</td>\n",
       "      <td>322675.0</td>\n",
       "    </tr>\n",
       "    <tr>\n",
       "      <th>4</th>\n",
       "      <td>California</td>\n",
       "      <td>33871648.0</td>\n",
       "      <td>29760021.0</td>\n",
       "      <td>4111627.0</td>\n",
       "    </tr>\n",
       "    <tr>\n",
       "      <th>...</th>\n",
       "      <td>...</td>\n",
       "      <td>...</td>\n",
       "      <td>...</td>\n",
       "      <td>...</td>\n",
       "    </tr>\n",
       "    <tr>\n",
       "      <th>66</th>\n",
       "      <td>NOTE:  Consistent with the January 1999 U.S. S...</td>\n",
       "      <td>NaN</td>\n",
       "      <td>NaN</td>\n",
       "      <td>NaN</td>\n",
       "    </tr>\n",
       "    <tr>\n",
       "      <th>67</th>\n",
       "      <td>of Representatives, 525 U.S. 316, 119 S. Ct. 7...</td>\n",
       "      <td>NaN</td>\n",
       "      <td>NaN</td>\n",
       "      <td>NaN</td>\n",
       "    </tr>\n",
       "    <tr>\n",
       "      <th>68</th>\n",
       "      <td>reflect the use of statistical sampling to cor...</td>\n",
       "      <td>NaN</td>\n",
       "      <td>NaN</td>\n",
       "      <td>NaN</td>\n",
       "    </tr>\n",
       "    <tr>\n",
       "      <th>69</th>\n",
       "      <td>Source:  U.S. Department of Commerce, U.S. Cen...</td>\n",
       "      <td>NaN</td>\n",
       "      <td>NaN</td>\n",
       "      <td>NaN</td>\n",
       "    </tr>\n",
       "    <tr>\n",
       "      <th>70</th>\n",
       "      <td>Internet Release date:  December 28, 2000</td>\n",
       "      <td>NaN</td>\n",
       "      <td>NaN</td>\n",
       "      <td>NaN</td>\n",
       "    </tr>\n",
       "  </tbody>\n",
       "</table>\n",
       "<p>71 rows × 4 columns</p>\n",
       "</div>"
      ],
      "text/plain": [
       "                                                 Area  Total 2000  Total 1990  \\\n",
       "0                                             Alabama   4447100.0   4040587.0   \n",
       "1                                              Alaska    626932.0    550043.0   \n",
       "2                                             Arizona   5130632.0   3665228.0   \n",
       "3                                            Arkansas   2673400.0   2350725.0   \n",
       "4                                          California  33871648.0  29760021.0   \n",
       "..                                                ...         ...         ...   \n",
       "66  NOTE:  Consistent with the January 1999 U.S. S...         NaN         NaN   \n",
       "67  of Representatives, 525 U.S. 316, 119 S. Ct. 7...         NaN         NaN   \n",
       "68  reflect the use of statistical sampling to cor...         NaN         NaN   \n",
       "69  Source:  U.S. Department of Commerce, U.S. Cen...         NaN         NaN   \n",
       "70          Internet Release date:  December 28, 2000         NaN         NaN   \n",
       "\n",
       "       Record  \n",
       "0    406513.0  \n",
       "1     76889.0  \n",
       "2   1465404.0  \n",
       "3    322675.0  \n",
       "4   4111627.0  \n",
       "..        ...  \n",
       "66        NaN  \n",
       "67        NaN  \n",
       "68        NaN  \n",
       "69        NaN  \n",
       "70        NaN  \n",
       "\n",
       "[71 rows x 4 columns]"
      ]
     },
     "execution_count": 34,
     "metadata": {},
     "output_type": "execute_result"
    }
   ],
   "source": [
    "dfs"
   ]
  },
  {
   "cell_type": "code",
   "execution_count": 39,
   "metadata": {},
   "outputs": [],
   "source": [
    "dfs=dfs.iloc[:-20]"
   ]
  },
  {
   "cell_type": "code",
   "execution_count": 50,
   "metadata": {},
   "outputs": [],
   "source": [
    "max_value=dfs[\"Record\"].max()\n",
    "min_value=dfs[\"Record\"].min()\n",
    "average_value=dfs[\"Record\"].mean()"
   ]
  },
  {
   "cell_type": "code",
   "execution_count": 51,
   "metadata": {},
   "outputs": [
    {
     "name": "stdout",
     "output_type": "stream",
     "text": [
      "4111627.0\n",
      "-34841.0\n",
      "641412.4117647059\n"
     ]
    }
   ],
   "source": [
    "print(max_value)\n",
    "print(min_value)\n",
    "print(average_value)\n"
   ]
  },
  {
   "cell_type": "code",
   "execution_count": 52,
   "metadata": {},
   "outputs": [],
   "source": [
    "new_table= { \n",
    "    'Item':['Highest Change in Population', 'Lowest Change in Population', 'Average Change in Population'],  \n",
    "    'State':['California', 'District of Columbia','N/A'],  \n",
    "    'Record':[max_value, min_value, average_value] }"
   ]
  },
  {
   "cell_type": "code",
   "execution_count": 53,
   "metadata": {},
   "outputs": [],
   "source": [
    "final_data_frame = pd.DataFrame(new_table) \n"
   ]
  },
  {
   "cell_type": "code",
   "execution_count": 54,
   "metadata": {},
   "outputs": [
    {
     "data": {
      "text/html": [
       "<div>\n",
       "<style scoped>\n",
       "    .dataframe tbody tr th:only-of-type {\n",
       "        vertical-align: middle;\n",
       "    }\n",
       "\n",
       "    .dataframe tbody tr th {\n",
       "        vertical-align: top;\n",
       "    }\n",
       "\n",
       "    .dataframe thead th {\n",
       "        text-align: right;\n",
       "    }\n",
       "</style>\n",
       "<table border=\"1\" class=\"dataframe\">\n",
       "  <thead>\n",
       "    <tr style=\"text-align: right;\">\n",
       "      <th></th>\n",
       "      <th>Item</th>\n",
       "      <th>State</th>\n",
       "      <th>Record</th>\n",
       "    </tr>\n",
       "  </thead>\n",
       "  <tbody>\n",
       "    <tr>\n",
       "      <th>0</th>\n",
       "      <td>Highest Change in Population</td>\n",
       "      <td>California</td>\n",
       "      <td>4.111627e+06</td>\n",
       "    </tr>\n",
       "    <tr>\n",
       "      <th>1</th>\n",
       "      <td>Lowest Change in Population</td>\n",
       "      <td>District of Columbia</td>\n",
       "      <td>-3.484100e+04</td>\n",
       "    </tr>\n",
       "    <tr>\n",
       "      <th>2</th>\n",
       "      <td>Average Change in Population</td>\n",
       "      <td>N/A</td>\n",
       "      <td>6.414124e+05</td>\n",
       "    </tr>\n",
       "  </tbody>\n",
       "</table>\n",
       "</div>"
      ],
      "text/plain": [
       "                           Item                 State        Record\n",
       "0  Highest Change in Population            California  4.111627e+06\n",
       "1   Lowest Change in Population  District of Columbia -3.484100e+04\n",
       "2  Average Change in Population                   N/A  6.414124e+05"
      ]
     },
     "execution_count": 54,
     "metadata": {},
     "output_type": "execute_result"
    }
   ],
   "source": [
    "final_data_frame"
   ]
  },
  {
   "cell_type": "code",
   "execution_count": 45,
   "metadata": {},
   "outputs": [
    {
     "data": {
      "text/plain": [
       "-5"
      ]
     },
     "execution_count": 45,
     "metadata": {},
     "output_type": "execute_result"
    }
   ],
   "source": [
    "int(-5)"
   ]
  },
  {
   "cell_type": "code",
   "execution_count": 46,
   "metadata": {},
   "outputs": [
    {
     "data": {
      "text/plain": [
       "4111627.0"
      ]
     },
     "execution_count": 46,
     "metadata": {},
     "output_type": "execute_result"
    }
   ],
   "source": [
    "float(4.111627e+06)"
   ]
  },
  {
   "cell_type": "code",
   "execution_count": 55,
   "metadata": {},
   "outputs": [],
   "source": [
    "final_data_frame.to_excel('C:/Users/pc/Downloads/PopulationChange Records/U.S. Census Data Population Change from 1990 to 2000 on the PopulationChangeRecords Worksheet.xlsx')"
   ]
  },
  {
   "cell_type": "code",
   "execution_count": null,
   "metadata": {},
   "outputs": [],
   "source": []
  }
 ],
 "metadata": {
  "kernelspec": {
   "display_name": "Python 3",
   "language": "python",
   "name": "python3"
  },
  "language_info": {
   "codemirror_mode": {
    "name": "ipython",
    "version": 3
   },
   "file_extension": ".py",
   "mimetype": "text/x-python",
   "name": "python",
   "nbconvert_exporter": "python",
   "pygments_lexer": "ipython3",
   "version": "3.7.6"
  }
 },
 "nbformat": 4,
 "nbformat_minor": 4
}
